{
 "cells": [
  {
   "cell_type": "code",
   "execution_count": 1,
   "id": "informational-nowhere",
   "metadata": {},
   "outputs": [],
   "source": [
    "import numpy as np\n",
    "import matplotlib.pyplot as plt"
   ]
  },
  {
   "cell_type": "raw",
   "id": "labeled-guarantee",
   "metadata": {},
   "source": [
    "5я лаба:\n",
    "[X] - Вводит два числа пользователь\n",
    "[X] - Переводим их в двоичную систему\n",
    "[X] - Приводим их к одному размеру\n",
    "[X] - Производим сумму\n",
    "[X] - Визуализируем сумму\n",
    "[X] - Добавляем шум\n",
    "[X] - Добавляем c1,..., c8\n",
    "[X] - Считаем вероятности (кол-во разных пикселей)\n",
    "[ ] - Для каждого столбики считаем топ вероятности"
   ]
  },
  {
   "cell_type": "code",
   "execution_count": 2,
   "id": "devoted-lebanon",
   "metadata": {},
   "outputs": [],
   "source": [
    "def to_binary(num1, num2):\n",
    "    \n",
    "    num1_b = bin(num1)[2:]\n",
    "    num2_b = bin(num2)[2:]\n",
    "    sum_b  = bin(num1+num2)[2:]\n",
    "    \n",
    "    l1, l2, ls = len(num1_b), len(num2_b), len(sum_b)\n",
    "    \n",
    "    num1_b = '0'*(ls-l1) + num1_b\n",
    "    num2_b = '0'*(ls-l2) + num2_b\n",
    "        \n",
    "    return num1_b, num2_b, sum_b"
   ]
  },
  {
   "cell_type": "code",
   "execution_count": 3,
   "id": "loved-denial",
   "metadata": {},
   "outputs": [],
   "source": [
    "def bernoulli_noise(true_image, p):\n",
    "    \n",
    "    assert len(true_image.shape) == 2\n",
    "    assert 0 <= p <= 1\n",
    "    \n",
    "    if p == 0:\n",
    "        res_img = true_image\n",
    "    if p == 1:\n",
    "        res_img = 1 - true_image\n",
    "    else:\n",
    "        noise_matrix = np.zeros(true_image.shape, np.uint8)\n",
    "\n",
    "        for i in range(true_image.shape[0]):\n",
    "            for j in range(true_image.shape[1]):\n",
    "\n",
    "                if np.random.rand() <= p:\n",
    "                    noise_matrix[i, j] = 1\n",
    "\n",
    "        res_img = true_image ^ noise_matrix\n",
    "        \n",
    "    plt.imshow(res_img)\n",
    "    return res_img"
   ]
  },
  {
   "cell_type": "code",
   "execution_count": 4,
   "id": "monthly-newcastle",
   "metadata": {},
   "outputs": [],
   "source": [
    "def render(num_b, one_ref, zero_ref):\n",
    "\n",
    "    char_h, char_w = one_ref.shape\n",
    "    \n",
    "    res = np.zeros( (char_h, char_w*len(num_b)), dtype=np.uint8 )\n",
    "    \n",
    "    for i in range(len(num_b)):\n",
    "        \n",
    "        if num_b[i] == '1':\n",
    "            res[:, i*char_w :(i+1)*char_w] = one\n",
    "        if num_b[i] == '0':\n",
    "            res[:, i*char_w :(i+1)*char_w] = zero\n",
    "    \n",
    "    return res"
   ]
  },
  {
   "cell_type": "code",
   "execution_count": 5,
   "id": "automatic-empire",
   "metadata": {},
   "outputs": [],
   "source": [
    "def render_img(n1, n2, one_ref, zero_ref):\n",
    "    \n",
    "    char_h, char_w = one_ref.shape\n",
    "    \n",
    "    # decimal to binary\n",
    "    n1_b, n2_b, _sum = to_binary(n1, n2)\n",
    "    \n",
    "    # render binary to img\n",
    "    n1_img_clean = render(n1_b, one, zero)\n",
    "    n2_img_clean = render(n2_b, one, zero)\n",
    "    sum_img      = render(_sum, one, zero)\n",
    "    \n",
    "    # concatenate\n",
    "    res_img = np.zeros( (char_h*3+1, char_w*len(n1_b)), dtype=np.uint8 )\n",
    "    \n",
    "    res_img[0:char_h, :] = n1_img_clean\n",
    "    res_img[char_h:char_h*2, :] = n2_img_clean\n",
    "    res_img[char_h*2, :] = 1\n",
    "    res_img[char_h*2+1:char_h*3+1, :] = sum_img\n",
    "    \n",
    "    plt.imshow(res_img)\n",
    "    return res_img\n",
    "    "
   ]
  },
  {
   "cell_type": "code",
   "execution_count": 6,
   "id": "grand-carol",
   "metadata": {},
   "outputs": [],
   "source": [
    "def generate_terminals(one, zero):\n",
    "    \n",
    "    char_h, char_w = one.shape\n",
    "    terminals = np.zeros( (9, char_h*3+1, char_w), dtype=np.uint8 )\n",
    "    \n",
    "    def render_column(b1, b2, s):\n",
    "        column = np.zeros( (char_h*3+1, char_w), dtype=np.uint8 )\n",
    "        column[ 0          : char_h     ,:] = b1\n",
    "        column[ char_h     : char_h*2   ,:] = b2\n",
    "        column[ char_h*2   : char_h*2+1 ,:] = 1\n",
    "        column[ char_h*2+1 : char_h*3+1 ,:] = s\n",
    "        return column\n",
    "        \n",
    "    # C_k\n",
    "    terminals[1 ,:,:] = render_column(zero, zero, zero)\n",
    "    terminals[2 ,:,:] = render_column(zero, zero, one)\n",
    "    terminals[3 ,:,:] = render_column(zero, one, zero)\n",
    "    terminals[4 ,:,:] = render_column(one, zero, zero)\n",
    "    terminals[5 ,:,:] = render_column(one, one, zero)\n",
    "    terminals[6 ,:,:] = render_column(one, zero, one)\n",
    "    terminals[7 ,:,:] = render_column(zero, one, one)\n",
    "    terminals[8 ,:,:] = render_column(one, one, one)\n",
    "    \n",
    "    foo = np.concatenate((terminals[1 ,:,:], terminals[2 ,:,:], terminals[3 ,:,:], terminals[4 ,:,:], terminals[5 ,:,:], terminals[6 ,:,:], terminals[7 ,:,:], terminals[8 ,:,:]), axis=1)\n",
    "    plt.imshow(foo)\n",
    "    \n",
    "    return terminals"
   ]
  },
  {
   "cell_type": "code",
   "execution_count": 7,
   "id": "intermediate-picnic",
   "metadata": {},
   "outputs": [],
   "source": [
    "def calculate_ref_penalty(terminals, noised_img):\n",
    "    char_h, char_w = one.shape\n",
    "    n = int( noised_img.shape[1] / char_w )\n",
    "    \n",
    "    penalties = np.full( (n,8), -1 )\n",
    "    \n",
    "    for i in range(n):\n",
    "        for c in range(8):\n",
    "            \n",
    "            col = noised_img[:, char_w*i:char_w*(i+1)]\n",
    "            \n",
    "            diff = np.abs( col.astype(np.int8) - terminals[c+1,:,:] )\n",
    "            \n",
    "            penalties[i,c] = np.sum(diff)\n",
    "            \n",
    "    return penalties"
   ]
  },
  {
   "cell_type": "code",
   "execution_count": 8,
   "id": "streaming-summer",
   "metadata": {},
   "outputs": [],
   "source": [
    "one = np.array([\n",
    "    [0,0,0,0,0],\n",
    "    [0,0,1,0,0],\n",
    "    [0,1,1,0,0],\n",
    "    [0,0,1,0,0],\n",
    "    [0,0,1,0,0],\n",
    "    [0,0,1,0,0],\n",
    "    [0,1,1,1,0],\n",
    "    [0,0,0,0,0],\n",
    "])\n",
    "\n",
    "zero = np.array([\n",
    "    [0,0,0,0,0],\n",
    "    [0,1,1,1,0],\n",
    "    [0,1,0,1,0],\n",
    "    [0,1,0,1,0],\n",
    "    [0,1,0,1,0],\n",
    "    [0,1,0,1,0],\n",
    "    [0,1,1,1,0],\n",
    "    [0,0,0,0,0],\n",
    "])"
   ]
  },
  {
   "cell_type": "markdown",
   "id": "earned-correction",
   "metadata": {},
   "source": [
    "---"
   ]
  },
  {
   "cell_type": "markdown",
   "id": "integral-river",
   "metadata": {},
   "source": [
    "## Main"
   ]
  },
  {
   "cell_type": "code",
   "execution_count": 9,
   "id": "eligible-choice",
   "metadata": {},
   "outputs": [],
   "source": [
    "n1, n2,= 2, 12"
   ]
  },
  {
   "cell_type": "code",
   "execution_count": 10,
   "id": "chief-flooring",
   "metadata": {},
   "outputs": [
    {
     "data": {
      "image/png": "[encoded data removed]",
      "text/plain": [
       "<Figure size 432x288 with 1 Axes>"
      ]
     },
     "metadata": {
      "needs_background": "light"
     },
     "output_type": "display_data"
    }
   ],
   "source": [
    "# Input img\n",
    "inpt_img = render_img(n1, n2, one, zero)"
   ]
  },
  {
   "cell_type": "code",
   "execution_count": 11,
   "id": "blessed-fight",
   "metadata": {},
   "outputs": [
    {
     "data": {
      "image/png": "[encoded data removed]",
      "text/plain": [
       "<Figure size 432x288 with 1 Axes>"
      ]
     },
     "metadata": {
      "needs_background": "light"
     },
     "output_type": "display_data"
    }
   ],
   "source": [
    "# Noised img\n",
    "noised_img = bernoulli_noise(inpt_img, 0.1)"
   ]
  },
  {
   "cell_type": "code",
   "execution_count": 12,
   "id": "strange-magazine",
   "metadata": {},
   "outputs": [
    {
     "data": {
      "image/png": "[encoded data removed]",
      "text/plain": [
       "<Figure size 432x288 with 1 Axes>"
      ]
     },
     "metadata": {
      "needs_background": "light"
     },
     "output_type": "display_data"
    }
   ],
   "source": [
    "# C_k imgs\n",
    "terminals = generate_terminals(one, zero)   "
   ]
  },
  {
   "cell_type": "code",
   "execution_count": 13,
   "id": "hourly-validity",
   "metadata": {},
   "outputs": [
    {
     "data": {
      "text/plain": [
       "array([[33, 22, 22, 44, 33, 33, 11, 22],\n",
       "       [37, 28, 24, 48, 35, 39, 15, 26],\n",
       "       [33, 26, 46, 24, 37, 17, 39, 30],\n",
       "       [10, 19, 21, 21, 32, 30, 30, 41]])"
      ]
     },
     "execution_count": 13,
     "metadata": {},
     "output_type": "execute_result"
    }
   ],
   "source": [
    "c_penalties = calculate_ref_penalty(terminals, noised_img)\n",
    "c_penalties"
   ]
  },
  {
   "cell_type": "code",
   "execution_count": null,
   "id": "coordinate-usage",
   "metadata": {},
   "outputs": [],
   "source": []
  }
 ],
 "metadata": {
  "kernelspec": {
   "display_name": "Python 3",
   "language": "python",
   "name": "python3"
  },
  "language_info": {
   "codemirror_mode": {
    "name": "ipython",
    "version": 3
   },
   "file_extension": ".py",
   "mimetype": "text/x-python",
   "name": "python",
   "nbconvert_exporter": "python",
   "pygments_lexer": "ipython3",
   "version": "3.8.5"
  }
 },
 "nbformat": 4,
 "nbformat_minor": 5
}
