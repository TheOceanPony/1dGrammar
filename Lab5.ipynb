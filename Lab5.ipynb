{
 "cells": [
  {
   "cell_type": "code",
   "execution_count": 1,
   "id": "informational-nowhere",
   "metadata": {},
   "outputs": [],
   "source": [
    "import numpy as np\n",
    "import matplotlib.pyplot as plt"
   ]
  },
  {
   "cell_type": "code",
   "execution_count": 2,
   "id": "devoted-lebanon",
   "metadata": {},
   "outputs": [],
   "source": [
    "def to_binary(num1, num2):\n",
    "    \n",
    "    num1_b = bin(num1)[2:]\n",
    "    num2_b = bin(num2)[2:]\n",
    "    sum_b  = bin(num1+num2)[2:]\n",
    "    \n",
    "    l1, l2, ls = len(num1_b), len(num2_b), len(sum_b)\n",
    "    \n",
    "    num1_b = '0'*(ls-l1) + num1_b\n",
    "    num2_b = '0'*(ls-l2) + num2_b\n",
    "        \n",
    "    return num1_b, num2_b, sum_b"
   ]
  },
  {
   "cell_type": "code",
   "execution_count": 3,
   "id": "loved-denial",
   "metadata": {},
   "outputs": [],
   "source": [
    "def bernoulli_noise(true_image, p):\n",
    "    \n",
    "    assert len(true_image.shape) == 2\n",
    "    assert 0 <= p <= 1\n",
    "    \n",
    "    if p == 0:\n",
    "        res_img = true_image\n",
    "    if p == 1:\n",
    "        res_img = 1 - true_image\n",
    "    else:\n",
    "        noise_matrix = np.zeros(true_image.shape, np.uint8)\n",
    "\n",
    "        for i in range(true_image.shape[0]):\n",
    "            for j in range(true_image.shape[1]):\n",
    "\n",
    "                if np.random.rand() <= p:\n",
    "                    noise_matrix[i, j] = 1\n",
    "\n",
    "        res_img = true_image ^ noise_matrix\n",
    "        \n",
    "    plt.imshow(res_img)\n",
    "    return res_img"
   ]
  },
  {
   "cell_type": "code",
   "execution_count": 4,
   "id": "monthly-newcastle",
   "metadata": {},
   "outputs": [],
   "source": [
    "def render(num_b, one_ref, zero_ref):\n",
    "\n",
    "    char_h, char_w = one_ref.shape\n",
    "    \n",
    "    res = np.zeros( (char_h, char_w*len(num_b)), dtype=np.uint8 )\n",
    "    \n",
    "    for i in range(len(num_b)):\n",
    "        \n",
    "        if num_b[i] == '1':\n",
    "            res[:, i*char_w :(i+1)*char_w] = one\n",
    "        if num_b[i] == '0':\n",
    "            res[:, i*char_w :(i+1)*char_w] = zero\n",
    "    \n",
    "    return res"
   ]
  },
  {
   "cell_type": "code",
   "execution_count": 5,
   "id": "eight-cancellation",
   "metadata": {},
   "outputs": [
    {
     "data": {
      "text/plain": [
       "'1111011'"
      ]
     },
     "execution_count": 5,
     "metadata": {},
     "output_type": "execute_result"
    }
   ],
   "source": [
    "bin(123)[2:]"
   ]
  },
  {
   "cell_type": "code",
   "execution_count": 6,
   "id": "automatic-empire",
   "metadata": {},
   "outputs": [],
   "source": [
    "def render_img(n1, n2, one_ref, zero_ref, _sum=None):\n",
    "    \n",
    "    char_h, char_w = one_ref.shape\n",
    "    \n",
    "    # decimal to binary\n",
    "    if _sum == None:\n",
    "        n1_b, n2_b, _sum = to_binary(n1, n2)\n",
    "    else:\n",
    "        n1_b, n2_b, _ = to_binary(n1, n2)\n",
    "        _sum = bin(_sum)[2:]\n",
    "    \n",
    "    # render binary to img\n",
    "    n1_img_clean = render(n1_b, one, zero)\n",
    "    n2_img_clean = render(n2_b, one, zero)\n",
    "    sum_img      = render(_sum, one, zero)\n",
    "    \n",
    "    # concatenate\n",
    "    res_img = np.zeros( (char_h*3+1, char_w*len(n1_b)), dtype=np.uint8 )\n",
    "    \n",
    "    res_img[0:char_h, :] = n1_img_clean\n",
    "    res_img[char_h:char_h*2, :] = n2_img_clean\n",
    "    res_img[char_h*2, :] = 1\n",
    "    res_img[char_h*2+1:char_h*3+1, :] = sum_img\n",
    "    \n",
    "    plt.imshow(res_img)\n",
    "    \n",
    "    return res_img, len(_sum)\n",
    "    "
   ]
  },
  {
   "cell_type": "code",
   "execution_count": 7,
   "id": "gorgeous-europe",
   "metadata": {},
   "outputs": [],
   "source": [
    "def render_res(res, terminals):\n",
    "    \n",
    "    n = res.shape[0]\n",
    "    char_h, char_w = terminals[0].shape\n",
    "    \n",
    "    res_img = np.zeros( (char_h, char_w*n), dtype=np.uint8)\n",
    "    \n",
    "    for i in range(n):\n",
    "        res_img[:, char_w*i:char_w*(i+1)] = terminals[res[i]]\n",
    "        \n",
    "    return res_img"
   ]
  },
  {
   "cell_type": "code",
   "execution_count": 8,
   "id": "grand-carol",
   "metadata": {},
   "outputs": [],
   "source": [
    "def generate_terminals(one, zero):\n",
    "    \n",
    "    char_h, char_w = one.shape\n",
    "    terminals = np.zeros( (9, char_h*3+1, char_w), dtype=np.uint8 )\n",
    "    \n",
    "    def render_column(b1, b2, s):\n",
    "        column = np.zeros( (char_h*3+1, char_w), dtype=np.uint8 )\n",
    "        column[ 0          : char_h     ,:] = b1\n",
    "        column[ char_h     : char_h*2   ,:] = b2\n",
    "        column[ char_h*2   : char_h*2+1 ,:] = 1\n",
    "        column[ char_h*2+1 : char_h*3+1 ,:] = s\n",
    "        return column\n",
    "        \n",
    "    # C_k\n",
    "    terminals[1 ,:,:] = render_column(zero, zero, zero)\n",
    "    terminals[2 ,:,:] = render_column(zero, zero, one)\n",
    "    terminals[3 ,:,:] = render_column(zero, one, zero)\n",
    "    terminals[4 ,:,:] = render_column(one, zero, zero)\n",
    "    terminals[5 ,:,:] = render_column(one, one, zero)\n",
    "    terminals[6 ,:,:] = render_column(one, zero, one)\n",
    "    terminals[7 ,:,:] = render_column(zero, one, one)\n",
    "    terminals[8 ,:,:] = render_column(one, one, one)\n",
    "    \n",
    "    foo = np.concatenate((terminals[1 ,:,:], terminals[2 ,:,:], terminals[3 ,:,:], terminals[4 ,:,:], terminals[5 ,:,:], terminals[6 ,:,:], terminals[7 ,:,:], terminals[8 ,:,:]), axis=1)\n",
    "    plt.imshow(foo)\n",
    "    \n",
    "    return terminals"
   ]
  },
  {
   "cell_type": "code",
   "execution_count": 9,
   "id": "intermediate-picnic",
   "metadata": {},
   "outputs": [],
   "source": [
    "def calculate_ref_penalty(terminals, noised_img):\n",
    "    char_h, char_w = one.shape\n",
    "    n = int( noised_img.shape[1] / char_w )\n",
    "    \n",
    "    penalties = np.full( (n,8), -1 )\n",
    "    \n",
    "    for i in range(n):\n",
    "        for c in range(8):\n",
    "            \n",
    "            col = noised_img[:, char_w*i:char_w*(i+1)]\n",
    "            \n",
    "            diff = np.abs( col.astype(np.int8) - terminals[c+1,:,:] )\n",
    "            \n",
    "            penalties[i,c] = np.sum(diff)\n",
    "            \n",
    "    return penalties"
   ]
  },
  {
   "cell_type": "code",
   "execution_count": 10,
   "id": "alleged-korean",
   "metadata": {},
   "outputs": [],
   "source": [
    "def F_init(F, D, g):\n",
    "    n = F.shape[0]\n",
    "    \n",
    "    for i in range(n):\n",
    "        F, D = f(i, 0, F, D)\n",
    "        F, D = f(i, 1, F, D)\n",
    "    \n",
    "    return F,D\n",
    "\n",
    "def f(i, u, F, D):\n",
    "    G1 = [1,6,7]\n",
    "    G2 = [3,4,8]\n",
    "    \n",
    "    if i == 0:\n",
    "        \n",
    "        # f(1,us)\n",
    "        score = np.inf\n",
    "        best_d = None\n",
    "        for c in G1:\n",
    "            foo = g[0][c-1]\n",
    "            if foo < score:\n",
    "                score = foo\n",
    "                best_d = c-1\n",
    "        F[i, 0] = score\n",
    "        D[i, 0] = best_d+1\n",
    "        \n",
    "        # f(1,us')\n",
    "        F[i, 1] = g[0][5-1]\n",
    "        D[i, 1] = 5\n",
    "        \n",
    "    else:\n",
    "        \n",
    "        # f(i, us)\n",
    "        score = np.inf\n",
    "        best_d = None\n",
    "        for c in G1:\n",
    "            foo = g[i][c-1] + F[i-1, 0]\n",
    "            if foo < score:\n",
    "                score = foo\n",
    "                best_d = c-1\n",
    "        \n",
    "        if score <= g[i][2-1] + F[i-1,1]:\n",
    "            F[i, 0] = score\n",
    "            D[i, 0] = best_d+1\n",
    "        else:\n",
    "            F[i, 0] = g[i][2-1] + F[i-1,1]\n",
    "            D[i, 0] = 2           \n",
    "        \n",
    "        \n",
    "        # f(i, us')\n",
    "        score = np.inf\n",
    "        best_d = None\n",
    "        for c in G2:\n",
    "            foo = g[i][c-1] + F[i-1, 1]\n",
    "            if foo < score:\n",
    "                score = foo\n",
    "                best_d = c-1\n",
    "        \n",
    "        if score <= g[i][5-1] + F[i-1,0]:\n",
    "            F[i, 1] = score\n",
    "            D[i, 1] = best_d+1\n",
    "        else:\n",
    "            F[i, 1] = g[i][5-1] + F[i-1,0]\n",
    "            D[i, 1] = 5          \n",
    "        \n",
    "    return F, D"
   ]
  },
  {
   "cell_type": "code",
   "execution_count": 11,
   "id": "several-sewing",
   "metadata": {},
   "outputs": [],
   "source": [
    "def restore(D):\n",
    "    \n",
    "    n = D.shape[0]\n",
    "    res = np.full(n, -1, dtype=np.uint8)\n",
    "    \n",
    "    def foo(k):\n",
    "        G0 = [1,5,6,7]\n",
    "        G1 = [2,3,4,8]\n",
    "        \n",
    "        if k in G0:\n",
    "            return 0\n",
    "        if k in G1:\n",
    "            return 1\n",
    "        \n",
    "    res[n-1] = D[n-1, 0]\n",
    "    for i in range(n-1)[::-1]:\n",
    "        s = foo(res[i+1])\n",
    "        res[i] = D[i, s]\n",
    "        \n",
    "    return res"
   ]
  },
  {
   "cell_type": "code",
   "execution_count": 12,
   "id": "sized-mining",
   "metadata": {},
   "outputs": [],
   "source": [
    "def check_answer(res_img, inpt_img):\n",
    "    \n",
    "    diff = np.abs( res_img.astype(np.int8) - inpt_img )\n",
    "    sum_ = np.sum(diff)\n",
    "    \n",
    "    if sum_ == 0:\n",
    "        print(f\"The answer is correct! :)\")\n",
    "        plt.imshow(res_img)\n",
    "    else:\n",
    "        print(\"The answer is wrong :(\")\n",
    "        print(f\"There are {sum_} wrong pixels:\")\n",
    "        plt.imshow(diff)\n",
    "        \n",
    "    "
   ]
  },
  {
   "cell_type": "code",
   "execution_count": 13,
   "id": "streaming-summer",
   "metadata": {},
   "outputs": [],
   "source": [
    "one = np.array([\n",
    "    [0,0,0,0,0],\n",
    "    [0,0,1,0,0],\n",
    "    [0,1,1,0,0],\n",
    "    [0,0,1,0,0],\n",
    "    [0,0,1,0,0],\n",
    "    [0,0,1,0,0],\n",
    "    [0,1,1,1,0],\n",
    "    [0,0,0,0,0],\n",
    "])\n",
    "\n",
    "zero = np.array([\n",
    "    [0,0,0,0,0],\n",
    "    [0,1,1,1,0],\n",
    "    [0,1,0,1,0],\n",
    "    [0,1,0,1,0],\n",
    "    [0,1,0,1,0],\n",
    "    [0,1,0,1,0],\n",
    "    [0,1,1,1,0],\n",
    "    [0,0,0,0,0],\n",
    "])"
   ]
  },
  {
   "cell_type": "markdown",
   "id": "earned-correction",
   "metadata": {},
   "source": [
    "---"
   ]
  },
  {
   "cell_type": "markdown",
   "id": "integral-river",
   "metadata": {},
   "source": [
    "## Main"
   ]
  },
  {
   "cell_type": "code",
   "execution_count": 26,
   "id": "eligible-choice",
   "metadata": {},
   "outputs": [],
   "source": [
    "n1, n2, _sum = 4, 10, 11 \n",
    "p = 0.3"
   ]
  },
  {
   "cell_type": "code",
   "execution_count": 29,
   "id": "chief-flooring",
   "metadata": {},
   "outputs": [
    {
     "data": {
      "image/png": "[encoded data removed]",
      "text/plain": [
       "<Figure size 432x288 with 1 Axes>"
      ]
     },
     "metadata": {
      "needs_background": "light"
     },
     "output_type": "display_data"
    }
   ],
   "source": [
    "# Input img\n",
    "inpt_img, n = render_img(n1, n2, one, zero, _sum)"
   ]
  },
  {
   "cell_type": "code",
   "execution_count": 30,
   "id": "blessed-fight",
   "metadata": {},
   "outputs": [
    {
     "data": {
      "image/png": "[encoded data removed]",
      "text/plain": [
       "<Figure size 432x288 with 1 Axes>"
      ]
     },
     "metadata": {
      "needs_background": "light"
     },
     "output_type": "display_data"
    }
   ],
   "source": [
    "# Noised img\n",
    "noised_img = bernoulli_noise(inpt_img, p)"
   ]
  },
  {
   "cell_type": "code",
   "execution_count": 31,
   "id": "strange-magazine",
   "metadata": {},
   "outputs": [
    {
     "data": {
      "image/png": "[encoded data removed]",
      "text/plain": [
       "<Figure size 432x288 with 1 Axes>"
      ]
     },
     "metadata": {
      "needs_background": "light"
     },
     "output_type": "display_data"
    }
   ],
   "source": [
    "# C_k imgs\n",
    "terminals = generate_terminals(one, zero)   \n",
    "#c1  c2   c3   c4   c5   c6   c7   c8"
   ]
  },
  {
   "cell_type": "code",
   "execution_count": 32,
   "id": "hourly-validity",
   "metadata": {},
   "outputs": [],
   "source": [
    "g = calculate_ref_penalty(terminals, noised_img)\n",
    "g = np.flip(g, axis=0)"
   ]
  },
  {
   "cell_type": "code",
   "execution_count": 33,
   "id": "vital-ridge",
   "metadata": {},
   "outputs": [],
   "source": [
    "F = np.zeros((n, 2))\n",
    "D = np.zeros((n, 2), dtype=np.uint8)\n",
    "\n",
    "F, D = F_init(F,D, g)"
   ]
  },
  {
   "cell_type": "code",
   "execution_count": 34,
   "id": "treated-stamp",
   "metadata": {},
   "outputs": [
    {
     "data": {
      "text/plain": [
       "array([7, 6, 7, 1], dtype=uint8)"
      ]
     },
     "execution_count": 34,
     "metadata": {},
     "output_type": "execute_result"
    }
   ],
   "source": [
    "res = restore(D)[::-1]\n",
    "res"
   ]
  },
  {
   "cell_type": "markdown",
   "id": "caring-radical",
   "metadata": {},
   "source": [
    "---"
   ]
  },
  {
   "cell_type": "markdown",
   "id": "impaired-trace",
   "metadata": {},
   "source": [
    "## Results"
   ]
  },
  {
   "cell_type": "code",
   "execution_count": 43,
   "id": "artistic-cornell",
   "metadata": {},
   "outputs": [
    {
     "name": "stdout",
     "output_type": "stream",
     "text": [
      "original ideal input: 4 + 10 = 11\n"
     ]
    },
    {
     "data": {
      "text/plain": [
       "<matplotlib.image.AxesImage at 0x7fdf02118df0>"
      ]
     },
     "execution_count": 43,
     "metadata": {},
     "output_type": "execute_result"
    },
    {
     "data": {
      "image/png": "[encoded data removed]",
      "text/plain": [
       "<Figure size 432x288 with 1 Axes>"
      ]
     },
     "metadata": {
      "needs_background": "light"
     },
     "output_type": "display_data"
    }
   ],
   "source": [
    "# Ideal input\n",
    "print(f\"original ideal input: {n1} + {n2} = {_sum}\")\n",
    "plt.imshow(inpt_img)"
   ]
  },
  {
   "cell_type": "code",
   "execution_count": 44,
   "id": "greenhouse-timothy",
   "metadata": {},
   "outputs": [
    {
     "data": {
      "text/plain": [
       "<matplotlib.image.AxesImage at 0x7fdf0207a0d0>"
      ]
     },
     "execution_count": 44,
     "metadata": {},
     "output_type": "execute_result"
    },
    {
     "data": {
      "image/png": "[encoded data removed]",
      "text/plain": [
       "<Figure size 432x288 with 1 Axes>"
      ]
     },
     "metadata": {
      "needs_background": "light"
     },
     "output_type": "display_data"
    }
   ],
   "source": [
    "# Result\n",
    "res_img = render_res(res, terminals)\n",
    "plt.imshow(res_img)"
   ]
  },
  {
   "cell_type": "code",
   "execution_count": 37,
   "id": "square-jonathan",
   "metadata": {},
   "outputs": [
    {
     "data": {
      "text/plain": [
       "<matplotlib.image.AxesImage at 0x7fdf023ca2b0>"
      ]
     },
     "execution_count": 37,
     "metadata": {},
     "output_type": "execute_result"
    },
    {
     "data": {
      "image/png": "[encoded data removed]",
      "text/plain": [
       "<Figure size 432x288 with 1 Axes>"
      ]
     },
     "metadata": {
      "needs_background": "light"
     },
     "output_type": "display_data"
    }
   ],
   "source": [
    "# Actual input\n",
    "plt.imshow(noised_img)"
   ]
  },
  {
   "cell_type": "code",
   "execution_count": null,
   "id": "interested-spokesman",
   "metadata": {},
   "outputs": [],
   "source": []
  }
 ],
 "metadata": {
  "kernelspec": {
   "display_name": "Python 3",
   "language": "python",
   "name": "python3"
  },
  "language_info": {
   "codemirror_mode": {
    "name": "ipython",
    "version": 3
   },
   "file_extension": ".py",
   "mimetype": "text/x-python",
   "name": "python",
   "nbconvert_exporter": "python",
   "pygments_lexer": "ipython3",
   "version": "3.8.5"
  }
 },
 "nbformat": 4,
 "nbformat_minor": 5
}
